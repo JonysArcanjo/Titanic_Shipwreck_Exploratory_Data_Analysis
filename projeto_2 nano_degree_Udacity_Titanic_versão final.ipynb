{
 "cells": [
  {
   "cell_type": "markdown",
   "metadata": {},
   "source": [
    "# Sobreviventes do Titanic"
   ]
  },
  {
   "cell_type": "markdown",
   "metadata": {},
   "source": [
    "\n",
    "<h>O naufrágio do RMS Titanic é um dos mais infames naufrágios da história. Em 15 de abril de 1912, durante sua viagem inaugural, o Titanic afundou depois de colidir com um iceberg, matando 1502 de 2224 passageiros e tripulantes. Essa tragédia sensacional chocou a comunidade internacional e levou a melhores normas de segurança para os navios.<h/>\n",
    "    \n",
    "\n",
    "<h>Uma das razões pelas quais o naufrágio causou tamanha perda de vidas foi que não havia botes salva-vidas suficientes para os passageiros e a tripulação. Embora houvesse algum elemento de sorte envolvido na sobrevivência do naufrágio, alguns grupos de pessoas tinham maior probabilidade de sobreviver do que outros, como mulheres, crianças e a classe alta.<h/>\n",
    "\n",
    "fonte: [kaggle.](https://www.kaggle.com/c/titanic)"
   ]
  },
  {
   "cell_type": "markdown",
   "metadata": {},
   "source": [
    "## Descrição de dados:\n",
    "\n"
   ]
  },
  {
   "cell_type": "markdown",
   "metadata": {},
   "source": [
    "1. Sobrevivência - Sobrevivência (0 = Não; 1 = Sim). Não incluído no arquivo test.csv.\n",
    "2. Pclass - Classe de Passageiros (1 = 1º; 2 = 2º; 3º = 3º)\n",
    "3. Nome - Nome\n",
    "4. Sexo - Sexo\n",
    "5. Idade - idade\n",
    "5. Sibsp - Número de irmãos / cônjuges a bordo\n",
    "6. Parch - Número de pais / filhos a bordo\n",
    "7. Bilhete - Número do Bilhete\n",
    "8. Tarifa - tarifa do passageiro\n",
    "9. Cabine - Cabine\n",
    "10. Embarked - Porto de embarque (C = Cherbourg; Q = Queenstown; S = Southampton)\n",
    "\n",
    "Arquivo csv baixado do [kaggle.](https://www.kaggle.com/c/titanic)"
   ]
  },
  {
   "cell_type": "markdown",
   "metadata": {},
   "source": [
    "# Perguntas:"
   ]
  },
  {
   "cell_type": "markdown",
   "metadata": {},
   "source": [
    "Realizei uma breve pesquisa sobre o naufragio do Titanic a procura de insights sobre o tema abortado.Em seguida iniciei minha análise de dados exploratória afim de identificar padrões, anomalias e realizei um Brainstorm para criar perguntas relevantes que pudessem ser respondidas pelo dataset em questão, por fim selecionei as perguntas abaixo:\n",
    "\n",
    "\n",
    "1.  Qual a \"classe\" com o maior número de \"sobreviventes\"?\n",
    "\n",
    "\n",
    "2.  Qual o porto de embarque com o maior número de sobreviventes?\n",
    "\n",
    "\n",
    "3. Qual o porto de embarque com o maior taxa de mortalidade?\n",
    "\n",
    "\n",
    "4.  Maior percentual de sobreviventes por sexo?\n",
    "\n",
    "\n",
    "5.  Qual a maior taxa de mortalidade por taxa etária?\n",
    "\n",
    "\n",
    "6. Qual taxa de Mortalidade por idade?   "
   ]
  },
  {
   "cell_type": "markdown",
   "metadata": {},
   "source": [
    "# Limpeza dos Dados"
   ]
  },
  {
   "cell_type": "code",
   "execution_count": 1,
   "metadata": {},
   "outputs": [],
   "source": [
    "#Importando bibliotecas.\n",
    "import pandas as pd\n",
    "import numpy as np\n",
    "import matplotlib.pyplot as plt\n",
    "import seaborn\n",
    "import csv"
   ]
  },
  {
   "cell_type": "code",
   "execution_count": 2,
   "metadata": {},
   "outputs": [
    {
     "name": "stdout",
     "output_type": "stream",
     "text": [
      "Lendo o documento...\n",
      "Ok!\n"
     ]
    },
    {
     "data": {
      "text/html": [
       "<div>\n",
       "<style scoped>\n",
       "    .dataframe tbody tr th:only-of-type {\n",
       "        vertical-align: middle;\n",
       "    }\n",
       "\n",
       "    .dataframe tbody tr th {\n",
       "        vertical-align: top;\n",
       "    }\n",
       "\n",
       "    .dataframe thead th {\n",
       "        text-align: right;\n",
       "    }\n",
       "</style>\n",
       "<table border=\"1\" class=\"dataframe\">\n",
       "  <thead>\n",
       "    <tr style=\"text-align: right;\">\n",
       "      <th></th>\n",
       "      <th>PassengerId</th>\n",
       "      <th>Survived</th>\n",
       "      <th>Pclass</th>\n",
       "      <th>Name</th>\n",
       "      <th>Sex</th>\n",
       "      <th>Age</th>\n",
       "      <th>SibSp</th>\n",
       "      <th>Parch</th>\n",
       "      <th>Ticket</th>\n",
       "      <th>Fare</th>\n",
       "      <th>Cabin</th>\n",
       "      <th>Embarked</th>\n",
       "    </tr>\n",
       "  </thead>\n",
       "  <tbody>\n",
       "    <tr>\n",
       "      <th>0</th>\n",
       "      <td>1</td>\n",
       "      <td>0</td>\n",
       "      <td>3</td>\n",
       "      <td>Braund, Mr. Owen Harris</td>\n",
       "      <td>male</td>\n",
       "      <td>22.0</td>\n",
       "      <td>1</td>\n",
       "      <td>0</td>\n",
       "      <td>A/5 21171</td>\n",
       "      <td>7.2500</td>\n",
       "      <td>NaN</td>\n",
       "      <td>S</td>\n",
       "    </tr>\n",
       "    <tr>\n",
       "      <th>1</th>\n",
       "      <td>2</td>\n",
       "      <td>1</td>\n",
       "      <td>1</td>\n",
       "      <td>Cumings, Mrs. John Bradley (Florence Briggs Th...</td>\n",
       "      <td>female</td>\n",
       "      <td>38.0</td>\n",
       "      <td>1</td>\n",
       "      <td>0</td>\n",
       "      <td>PC 17599</td>\n",
       "      <td>71.2833</td>\n",
       "      <td>C85</td>\n",
       "      <td>C</td>\n",
       "    </tr>\n",
       "    <tr>\n",
       "      <th>2</th>\n",
       "      <td>3</td>\n",
       "      <td>1</td>\n",
       "      <td>3</td>\n",
       "      <td>Heikkinen, Miss. Laina</td>\n",
       "      <td>female</td>\n",
       "      <td>26.0</td>\n",
       "      <td>0</td>\n",
       "      <td>0</td>\n",
       "      <td>STON/O2. 3101282</td>\n",
       "      <td>7.9250</td>\n",
       "      <td>NaN</td>\n",
       "      <td>S</td>\n",
       "    </tr>\n",
       "    <tr>\n",
       "      <th>3</th>\n",
       "      <td>4</td>\n",
       "      <td>1</td>\n",
       "      <td>1</td>\n",
       "      <td>Futrelle, Mrs. Jacques Heath (Lily May Peel)</td>\n",
       "      <td>female</td>\n",
       "      <td>35.0</td>\n",
       "      <td>1</td>\n",
       "      <td>0</td>\n",
       "      <td>113803</td>\n",
       "      <td>53.1000</td>\n",
       "      <td>C123</td>\n",
       "      <td>S</td>\n",
       "    </tr>\n",
       "    <tr>\n",
       "      <th>4</th>\n",
       "      <td>5</td>\n",
       "      <td>0</td>\n",
       "      <td>3</td>\n",
       "      <td>Allen, Mr. William Henry</td>\n",
       "      <td>male</td>\n",
       "      <td>35.0</td>\n",
       "      <td>0</td>\n",
       "      <td>0</td>\n",
       "      <td>373450</td>\n",
       "      <td>8.0500</td>\n",
       "      <td>NaN</td>\n",
       "      <td>S</td>\n",
       "    </tr>\n",
       "  </tbody>\n",
       "</table>\n",
       "</div>"
      ],
      "text/plain": [
       "   PassengerId  Survived  Pclass  \\\n",
       "0            1         0       3   \n",
       "1            2         1       1   \n",
       "2            3         1       3   \n",
       "3            4         1       1   \n",
       "4            5         0       3   \n",
       "\n",
       "                                                Name     Sex   Age  SibSp  \\\n",
       "0                            Braund, Mr. Owen Harris    male  22.0      1   \n",
       "1  Cumings, Mrs. John Bradley (Florence Briggs Th...  female  38.0      1   \n",
       "2                             Heikkinen, Miss. Laina  female  26.0      0   \n",
       "3       Futrelle, Mrs. Jacques Heath (Lily May Peel)  female  35.0      1   \n",
       "4                           Allen, Mr. William Henry    male  35.0      0   \n",
       "\n",
       "   Parch            Ticket     Fare Cabin Embarked  \n",
       "0      0         A/5 21171   7.2500   NaN        S  \n",
       "1      0          PC 17599  71.2833   C85        C  \n",
       "2      0  STON/O2. 3101282   7.9250   NaN        S  \n",
       "3      0            113803  53.1000  C123        S  \n",
       "4      0            373450   8.0500   NaN        S  "
      ]
     },
     "execution_count": 2,
     "metadata": {},
     "output_type": "execute_result"
    }
   ],
   "source": [
    "# lendo os dados como uma lista\n",
    "print(\"Lendo o documento...\")\n",
    "df = pd.read_csv(\"titanic-data-6.csv\") \n",
    "print(\"Ok!\")\n",
    "\n",
    "df.head()# exibindo as 5 primeiras linhas"
   ]
  },
  {
   "cell_type": "code",
   "execution_count": 3,
   "metadata": {},
   "outputs": [
    {
     "name": "stdout",
     "output_type": "stream",
     "text": [
      "<class 'pandas.core.frame.DataFrame'>\n",
      "RangeIndex: 891 entries, 0 to 890\n",
      "Data columns (total 12 columns):\n",
      "PassengerId    891 non-null int64\n",
      "Survived       891 non-null int64\n",
      "Pclass         891 non-null int64\n",
      "Name           891 non-null object\n",
      "Sex            891 non-null object\n",
      "Age            714 non-null float64\n",
      "SibSp          891 non-null int64\n",
      "Parch          891 non-null int64\n",
      "Ticket         891 non-null object\n",
      "Fare           891 non-null float64\n",
      "Cabin          204 non-null object\n",
      "Embarked       889 non-null object\n",
      "dtypes: float64(2), int64(5), object(5)\n",
      "memory usage: 83.6+ KB\n"
     ]
    }
   ],
   "source": [
    "# identificando o número de valores não-nulos em cada coluna.\n",
    "df.info()"
   ]
  },
  {
   "cell_type": "markdown",
   "metadata": {},
   "source": [
    "As colunas abaixo contem dados faltantes.\n",
    "\n",
    "1. Age = ação: preencher com a idade média dos tripulantes.\n",
    "2. Embarked,ação: preeencher com o valor mais comum entre os valores da coluna.\n",
    "3. Cabin\", analisar tratativas cabiveis."
   ]
  },
  {
   "cell_type": "code",
   "execution_count": 4,
   "metadata": {},
   "outputs": [
    {
     "data": {
      "text/plain": [
       "(891, 12)"
      ]
     },
     "execution_count": 4,
     "metadata": {},
     "output_type": "execute_result"
    }
   ],
   "source": [
    "#Número de linhas e colunas do dataframe\n",
    "df.shape"
   ]
  },
  {
   "cell_type": "code",
   "execution_count": 5,
   "metadata": {},
   "outputs": [
    {
     "data": {
      "text/plain": [
       "PassengerId    891\n",
       "Survived         2\n",
       "Pclass           3\n",
       "Name           891\n",
       "Sex              2\n",
       "Age             88\n",
       "SibSp            7\n",
       "Parch            7\n",
       "Ticket         681\n",
       "Fare           248\n",
       "Cabin          147\n",
       "Embarked         3\n",
       "dtype: int64"
      ]
     },
     "execution_count": 5,
     "metadata": {},
     "output_type": "execute_result"
    }
   ],
   "source": [
    "# número de valores únicos em cada coluna\n",
    "df.nunique()"
   ]
  },
  {
   "cell_type": "code",
   "execution_count": 6,
   "metadata": {},
   "outputs": [
    {
     "data": {
      "text/plain": [
       "PassengerId      int64\n",
       "Survived         int64\n",
       "Pclass           int64\n",
       "Name            object\n",
       "Sex             object\n",
       "Age            float64\n",
       "SibSp            int64\n",
       "Parch            int64\n",
       "Ticket          object\n",
       "Fare           float64\n",
       "Cabin           object\n",
       "Embarked        object\n",
       "dtype: object"
      ]
     },
     "execution_count": 6,
     "metadata": {},
     "output_type": "execute_result"
    }
   ],
   "source": [
    "# retorna os tipos de dados das colunas\n",
    "df.dtypes\n"
   ]
  },
  {
   "cell_type": "code",
   "execution_count": 7,
   "metadata": {},
   "outputs": [
    {
     "data": {
      "text/html": [
       "<div>\n",
       "<style scoped>\n",
       "    .dataframe tbody tr th:only-of-type {\n",
       "        vertical-align: middle;\n",
       "    }\n",
       "\n",
       "    .dataframe tbody tr th {\n",
       "        vertical-align: top;\n",
       "    }\n",
       "\n",
       "    .dataframe thead th {\n",
       "        text-align: right;\n",
       "    }\n",
       "</style>\n",
       "<table border=\"1\" class=\"dataframe\">\n",
       "  <thead>\n",
       "    <tr style=\"text-align: right;\">\n",
       "      <th></th>\n",
       "      <th>PassengerId</th>\n",
       "      <th>Survived</th>\n",
       "      <th>Pclass</th>\n",
       "      <th>Age</th>\n",
       "      <th>SibSp</th>\n",
       "      <th>Parch</th>\n",
       "      <th>Fare</th>\n",
       "    </tr>\n",
       "  </thead>\n",
       "  <tbody>\n",
       "    <tr>\n",
       "      <th>count</th>\n",
       "      <td>891.000000</td>\n",
       "      <td>891.000000</td>\n",
       "      <td>891.000000</td>\n",
       "      <td>714.000000</td>\n",
       "      <td>891.000000</td>\n",
       "      <td>891.000000</td>\n",
       "      <td>891.000000</td>\n",
       "    </tr>\n",
       "    <tr>\n",
       "      <th>mean</th>\n",
       "      <td>446.000000</td>\n",
       "      <td>0.383838</td>\n",
       "      <td>2.308642</td>\n",
       "      <td>29.699118</td>\n",
       "      <td>0.523008</td>\n",
       "      <td>0.381594</td>\n",
       "      <td>32.204208</td>\n",
       "    </tr>\n",
       "    <tr>\n",
       "      <th>std</th>\n",
       "      <td>257.353842</td>\n",
       "      <td>0.486592</td>\n",
       "      <td>0.836071</td>\n",
       "      <td>14.526497</td>\n",
       "      <td>1.102743</td>\n",
       "      <td>0.806057</td>\n",
       "      <td>49.693429</td>\n",
       "    </tr>\n",
       "    <tr>\n",
       "      <th>min</th>\n",
       "      <td>1.000000</td>\n",
       "      <td>0.000000</td>\n",
       "      <td>1.000000</td>\n",
       "      <td>0.420000</td>\n",
       "      <td>0.000000</td>\n",
       "      <td>0.000000</td>\n",
       "      <td>0.000000</td>\n",
       "    </tr>\n",
       "    <tr>\n",
       "      <th>25%</th>\n",
       "      <td>223.500000</td>\n",
       "      <td>0.000000</td>\n",
       "      <td>2.000000</td>\n",
       "      <td>20.125000</td>\n",
       "      <td>0.000000</td>\n",
       "      <td>0.000000</td>\n",
       "      <td>7.910400</td>\n",
       "    </tr>\n",
       "    <tr>\n",
       "      <th>50%</th>\n",
       "      <td>446.000000</td>\n",
       "      <td>0.000000</td>\n",
       "      <td>3.000000</td>\n",
       "      <td>28.000000</td>\n",
       "      <td>0.000000</td>\n",
       "      <td>0.000000</td>\n",
       "      <td>14.454200</td>\n",
       "    </tr>\n",
       "    <tr>\n",
       "      <th>75%</th>\n",
       "      <td>668.500000</td>\n",
       "      <td>1.000000</td>\n",
       "      <td>3.000000</td>\n",
       "      <td>38.000000</td>\n",
       "      <td>1.000000</td>\n",
       "      <td>0.000000</td>\n",
       "      <td>31.000000</td>\n",
       "    </tr>\n",
       "    <tr>\n",
       "      <th>max</th>\n",
       "      <td>891.000000</td>\n",
       "      <td>1.000000</td>\n",
       "      <td>3.000000</td>\n",
       "      <td>80.000000</td>\n",
       "      <td>8.000000</td>\n",
       "      <td>6.000000</td>\n",
       "      <td>512.329200</td>\n",
       "    </tr>\n",
       "  </tbody>\n",
       "</table>\n",
       "</div>"
      ],
      "text/plain": [
       "       PassengerId    Survived      Pclass         Age       SibSp  \\\n",
       "count   891.000000  891.000000  891.000000  714.000000  891.000000   \n",
       "mean    446.000000    0.383838    2.308642   29.699118    0.523008   \n",
       "std     257.353842    0.486592    0.836071   14.526497    1.102743   \n",
       "min       1.000000    0.000000    1.000000    0.420000    0.000000   \n",
       "25%     223.500000    0.000000    2.000000   20.125000    0.000000   \n",
       "50%     446.000000    0.000000    3.000000   28.000000    0.000000   \n",
       "75%     668.500000    1.000000    3.000000   38.000000    1.000000   \n",
       "max     891.000000    1.000000    3.000000   80.000000    8.000000   \n",
       "\n",
       "            Parch        Fare  \n",
       "count  891.000000  891.000000  \n",
       "mean     0.381594   32.204208  \n",
       "std      0.806057   49.693429  \n",
       "min      0.000000    0.000000  \n",
       "25%      0.000000    7.910400  \n",
       "50%      0.000000   14.454200  \n",
       "75%      0.000000   31.000000  \n",
       "max      6.000000  512.329200  "
      ]
     },
     "execution_count": 7,
     "metadata": {},
     "output_type": "execute_result"
    }
   ],
   "source": [
    "#  retorna estatísticas descritivas para cada coluna de dados\n",
    "df.describe()"
   ]
  },
  {
   "cell_type": "code",
   "execution_count": 8,
   "metadata": {},
   "outputs": [
    {
     "data": {
      "text/html": [
       "<div>\n",
       "<style scoped>\n",
       "    .dataframe tbody tr th:only-of-type {\n",
       "        vertical-align: middle;\n",
       "    }\n",
       "\n",
       "    .dataframe tbody tr th {\n",
       "        vertical-align: top;\n",
       "    }\n",
       "\n",
       "    .dataframe thead th {\n",
       "        text-align: right;\n",
       "    }\n",
       "</style>\n",
       "<table border=\"1\" class=\"dataframe\">\n",
       "  <thead>\n",
       "    <tr style=\"text-align: right;\">\n",
       "      <th></th>\n",
       "      <th>PassengerId</th>\n",
       "      <th>Survived</th>\n",
       "      <th>Pclass</th>\n",
       "      <th>Name</th>\n",
       "      <th>Sex</th>\n",
       "      <th>Age</th>\n",
       "      <th>SibSp</th>\n",
       "      <th>Parch</th>\n",
       "      <th>Ticket</th>\n",
       "      <th>Fare</th>\n",
       "      <th>Cabin</th>\n",
       "      <th>Embarked</th>\n",
       "    </tr>\n",
       "  </thead>\n",
       "  <tbody>\n",
       "    <tr>\n",
       "      <th>889</th>\n",
       "      <td>890</td>\n",
       "      <td>1</td>\n",
       "      <td>1</td>\n",
       "      <td>Behr, Mr. Karl Howell</td>\n",
       "      <td>male</td>\n",
       "      <td>26.0</td>\n",
       "      <td>0</td>\n",
       "      <td>0</td>\n",
       "      <td>111369</td>\n",
       "      <td>30.00</td>\n",
       "      <td>C148</td>\n",
       "      <td>C</td>\n",
       "    </tr>\n",
       "    <tr>\n",
       "      <th>890</th>\n",
       "      <td>891</td>\n",
       "      <td>0</td>\n",
       "      <td>3</td>\n",
       "      <td>Dooley, Mr. Patrick</td>\n",
       "      <td>male</td>\n",
       "      <td>32.0</td>\n",
       "      <td>0</td>\n",
       "      <td>0</td>\n",
       "      <td>370376</td>\n",
       "      <td>7.75</td>\n",
       "      <td>NaN</td>\n",
       "      <td>Q</td>\n",
       "    </tr>\n",
       "  </tbody>\n",
       "</table>\n",
       "</div>"
      ],
      "text/plain": [
       "     PassengerId  Survived  Pclass                   Name   Sex   Age  SibSp  \\\n",
       "889          890         1       1  Behr, Mr. Karl Howell  male  26.0      0   \n",
       "890          891         0       3    Dooley, Mr. Patrick  male  32.0      0   \n",
       "\n",
       "     Parch  Ticket   Fare Cabin Embarked  \n",
       "889      0  111369  30.00  C148        C  \n",
       "890      0  370376   7.75   NaN        Q  "
      ]
     },
     "execution_count": 8,
     "metadata": {},
     "output_type": "execute_result"
    }
   ],
   "source": [
    "# retorna as últimas linhas do dataset\n",
    "df.tail(2)"
   ]
  },
  {
   "cell_type": "code",
   "execution_count": 9,
   "metadata": {},
   "outputs": [
    {
     "name": "stdout",
     "output_type": "stream",
     "text": [
      "29.69911764705882\n"
     ]
    }
   ],
   "source": [
    "# encontra a média da idade dos sobreviventes\n",
    "df_mean_age = df['Age'].mean()\n",
    "print(df_mean_age)"
   ]
  },
  {
   "cell_type": "markdown",
   "metadata": {},
   "source": [
    "_idade média dos sobreviventes é 29 anos._\n",
    "\n",
    "*Vou substituir os campos vazios da coluna \"Age\" pela idade média encontrada \" 29\" anos.*"
   ]
  },
  {
   "cell_type": "code",
   "execution_count": 10,
   "metadata": {},
   "outputs": [],
   "source": [
    "#substituindo valor NaN (vazios) por 29 anos (idade média) dos sobreviventes.\n",
    "df[\"Age\"].fillna(\"29\", inplace = True) \n",
    "  "
   ]
  },
  {
   "cell_type": "code",
   "execution_count": 11,
   "metadata": {},
   "outputs": [],
   "source": [
    "# encontrar favor mais frequente na coluna \"Embarked\". Substituir o valor encontrado campos com vazios da coluna\n",
    "df.mode()['Embarked'][0]\n",
    "\n",
    "#Substituir o valor encontrado campos com vazios da coluna\n",
    "df[\"Embarked\"].fillna(\"S\", inplace = True) \n"
   ]
  },
  {
   "cell_type": "markdown",
   "metadata": {},
   "source": [
    "*O valor mais frequente para a coluna \"Embarked\" foi \"S\" = Southampton.*"
   ]
  },
  {
   "cell_type": "code",
   "execution_count": 12,
   "metadata": {},
   "outputs": [
    {
     "data": {
      "text/plain": [
       "PassengerId      0\n",
       "Survived         0\n",
       "Pclass           0\n",
       "Name             0\n",
       "Sex              0\n",
       "Age              0\n",
       "SibSp            0\n",
       "Parch            0\n",
       "Ticket           0\n",
       "Fare             0\n",
       "Cabin          687\n",
       "Embarked         0\n",
       "dtype: int64"
      ]
     },
     "execution_count": 12,
     "metadata": {},
     "output_type": "execute_result"
    }
   ],
   "source": [
    "# analisando dataset com valores faltantes\n",
    "df.isnull().sum()"
   ]
  },
  {
   "cell_type": "markdown",
   "metadata": {},
   "source": [
    "\n",
    "*Decidi excluir a coluna \"Cabin\" por a contém apenas 23% da dados preenchidos.*"
   ]
  },
  {
   "cell_type": "code",
   "execution_count": 13,
   "metadata": {},
   "outputs": [],
   "source": [
    "# excluindo coluna \"Cabin\" conforme mencionado acima.\n",
    "df_treated=df.drop(['Cabin'], axis=1)"
   ]
  },
  {
   "cell_type": "markdown",
   "metadata": {},
   "source": [
    "*A coluna \"Cabin\" foi excluida do data frame.*"
   ]
  },
  {
   "cell_type": "code",
   "execution_count": 14,
   "metadata": {},
   "outputs": [
    {
     "data": {
      "text/plain": [
       "PassengerId    0\n",
       "Survived       0\n",
       "Pclass         0\n",
       "Name           0\n",
       "Sex            0\n",
       "Age            0\n",
       "SibSp          0\n",
       "Parch          0\n",
       "Ticket         0\n",
       "Fare           0\n",
       "Embarked       0\n",
       "dtype: int64"
      ]
     },
     "execution_count": 14,
     "metadata": {},
     "output_type": "execute_result"
    }
   ],
   "source": [
    "#Agora o dataset \"df_treated\" não tem campos vazios conforme abaixo.\n",
    "df_treated.isnull().sum() "
   ]
  },
  {
   "cell_type": "code",
   "execution_count": 15,
   "metadata": {
    "scrolled": true
   },
   "outputs": [
    {
     "data": {
      "text/html": [
       "<div>\n",
       "<style scoped>\n",
       "    .dataframe tbody tr th:only-of-type {\n",
       "        vertical-align: middle;\n",
       "    }\n",
       "\n",
       "    .dataframe tbody tr th {\n",
       "        vertical-align: top;\n",
       "    }\n",
       "\n",
       "    .dataframe thead th {\n",
       "        text-align: right;\n",
       "    }\n",
       "</style>\n",
       "<table border=\"1\" class=\"dataframe\">\n",
       "  <thead>\n",
       "    <tr style=\"text-align: right;\">\n",
       "      <th></th>\n",
       "      <th>PassengerId</th>\n",
       "      <th>Survived</th>\n",
       "      <th>Pclass</th>\n",
       "      <th>Name</th>\n",
       "      <th>Sex</th>\n",
       "      <th>Age</th>\n",
       "      <th>SibSp</th>\n",
       "      <th>Parch</th>\n",
       "      <th>Ticket</th>\n",
       "      <th>Fare</th>\n",
       "      <th>Embarked</th>\n",
       "    </tr>\n",
       "  </thead>\n",
       "  <tbody>\n",
       "    <tr>\n",
       "      <th>0</th>\n",
       "      <td>1</td>\n",
       "      <td>0</td>\n",
       "      <td>3</td>\n",
       "      <td>Braund, Mr. Owen Harris</td>\n",
       "      <td>male</td>\n",
       "      <td>22</td>\n",
       "      <td>1</td>\n",
       "      <td>0</td>\n",
       "      <td>A/5 21171</td>\n",
       "      <td>7.2500</td>\n",
       "      <td>S</td>\n",
       "    </tr>\n",
       "    <tr>\n",
       "      <th>1</th>\n",
       "      <td>2</td>\n",
       "      <td>1</td>\n",
       "      <td>1</td>\n",
       "      <td>Cumings, Mrs. John Bradley (Florence Briggs Th...</td>\n",
       "      <td>female</td>\n",
       "      <td>38</td>\n",
       "      <td>1</td>\n",
       "      <td>0</td>\n",
       "      <td>PC 17599</td>\n",
       "      <td>71.2833</td>\n",
       "      <td>C</td>\n",
       "    </tr>\n",
       "    <tr>\n",
       "      <th>2</th>\n",
       "      <td>3</td>\n",
       "      <td>1</td>\n",
       "      <td>3</td>\n",
       "      <td>Heikkinen, Miss. Laina</td>\n",
       "      <td>female</td>\n",
       "      <td>26</td>\n",
       "      <td>0</td>\n",
       "      <td>0</td>\n",
       "      <td>STON/O2. 3101282</td>\n",
       "      <td>7.9250</td>\n",
       "      <td>S</td>\n",
       "    </tr>\n",
       "    <tr>\n",
       "      <th>3</th>\n",
       "      <td>4</td>\n",
       "      <td>1</td>\n",
       "      <td>1</td>\n",
       "      <td>Futrelle, Mrs. Jacques Heath (Lily May Peel)</td>\n",
       "      <td>female</td>\n",
       "      <td>35</td>\n",
       "      <td>1</td>\n",
       "      <td>0</td>\n",
       "      <td>113803</td>\n",
       "      <td>53.1000</td>\n",
       "      <td>S</td>\n",
       "    </tr>\n",
       "    <tr>\n",
       "      <th>4</th>\n",
       "      <td>5</td>\n",
       "      <td>0</td>\n",
       "      <td>3</td>\n",
       "      <td>Allen, Mr. William Henry</td>\n",
       "      <td>male</td>\n",
       "      <td>35</td>\n",
       "      <td>0</td>\n",
       "      <td>0</td>\n",
       "      <td>373450</td>\n",
       "      <td>8.0500</td>\n",
       "      <td>S</td>\n",
       "    </tr>\n",
       "  </tbody>\n",
       "</table>\n",
       "</div>"
      ],
      "text/plain": [
       "   PassengerId  Survived  Pclass  \\\n",
       "0            1         0       3   \n",
       "1            2         1       1   \n",
       "2            3         1       3   \n",
       "3            4         1       1   \n",
       "4            5         0       3   \n",
       "\n",
       "                                                Name     Sex Age  SibSp  \\\n",
       "0                            Braund, Mr. Owen Harris    male  22      1   \n",
       "1  Cumings, Mrs. John Bradley (Florence Briggs Th...  female  38      1   \n",
       "2                             Heikkinen, Miss. Laina  female  26      0   \n",
       "3       Futrelle, Mrs. Jacques Heath (Lily May Peel)  female  35      1   \n",
       "4                           Allen, Mr. William Henry    male  35      0   \n",
       "\n",
       "   Parch            Ticket     Fare Embarked  \n",
       "0      0         A/5 21171   7.2500        S  \n",
       "1      0          PC 17599  71.2833        C  \n",
       "2      0  STON/O2. 3101282   7.9250        S  \n",
       "3      0            113803  53.1000        S  \n",
       "4      0            373450   8.0500        S  "
      ]
     },
     "execution_count": 15,
     "metadata": {},
     "output_type": "execute_result"
    }
   ],
   "source": [
    "#visualindo o parte do dataset com head.()\n",
    "df_treated.head()"
   ]
  },
  {
   "cell_type": "markdown",
   "metadata": {},
   "source": [
    "Qual a genero com maior numero entre os sobreviventes?"
   ]
  },
  {
   "cell_type": "markdown",
   "metadata": {},
   "source": [
    "\n",
    "Identifique muitas passagens foram compradas em grupo, sendo assim acredito que seja correto dividir os valores da coluna *\"Fare\"* pelo número de passageiros*(\"PassengerId\")* mesmo que este momento não seja relevante para mesu questionamentos.\n"
   ]
  },
  {
   "cell_type": "code",
   "execution_count": 16,
   "metadata": {},
   "outputs": [],
   "source": [
    "# dividindo o valor do coluna \"Fare\" pela (\"PassengerId\").\n",
    "price_list= df_treated['Fare'] / df_treated['PassengerId']\n",
    "\n"
   ]
  },
  {
   "cell_type": "code",
   "execution_count": 17,
   "metadata": {},
   "outputs": [
    {
     "data": {
      "text/html": [
       "<div>\n",
       "<style scoped>\n",
       "    .dataframe tbody tr th:only-of-type {\n",
       "        vertical-align: middle;\n",
       "    }\n",
       "\n",
       "    .dataframe tbody tr th {\n",
       "        vertical-align: top;\n",
       "    }\n",
       "\n",
       "    .dataframe thead th {\n",
       "        text-align: right;\n",
       "    }\n",
       "</style>\n",
       "<table border=\"1\" class=\"dataframe\">\n",
       "  <thead>\n",
       "    <tr style=\"text-align: right;\">\n",
       "      <th></th>\n",
       "      <th>PassengerId</th>\n",
       "      <th>Survived</th>\n",
       "      <th>Pclass</th>\n",
       "      <th>Name</th>\n",
       "      <th>Sex</th>\n",
       "      <th>Age</th>\n",
       "      <th>SibSp</th>\n",
       "      <th>Parch</th>\n",
       "      <th>Ticket</th>\n",
       "      <th>Fare</th>\n",
       "      <th>Embarked</th>\n",
       "      <th>Price</th>\n",
       "    </tr>\n",
       "  </thead>\n",
       "  <tbody>\n",
       "    <tr>\n",
       "      <th>0</th>\n",
       "      <td>1</td>\n",
       "      <td>0</td>\n",
       "      <td>3</td>\n",
       "      <td>Braund, Mr. Owen Harris</td>\n",
       "      <td>male</td>\n",
       "      <td>22</td>\n",
       "      <td>1</td>\n",
       "      <td>0</td>\n",
       "      <td>A/5 21171</td>\n",
       "      <td>7.25</td>\n",
       "      <td>S</td>\n",
       "      <td>7.25</td>\n",
       "    </tr>\n",
       "  </tbody>\n",
       "</table>\n",
       "</div>"
      ],
      "text/plain": [
       "   PassengerId  Survived  Pclass                     Name   Sex Age  SibSp  \\\n",
       "0            1         0       3  Braund, Mr. Owen Harris  male  22      1   \n",
       "\n",
       "   Parch     Ticket  Fare Embarked  Price  \n",
       "0      0  A/5 21171  7.25        S   7.25  "
      ]
     },
     "execution_count": 17,
     "metadata": {},
     "output_type": "execute_result"
    }
   ],
   "source": [
    "# adicionando nova coluna \"Price\" com a informação do valor unitário da passagem.\n",
    "df_treated['Price'] = price_list\n",
    "df_treated.head(1)\n"
   ]
  },
  {
   "cell_type": "code",
   "execution_count": 18,
   "metadata": {},
   "outputs": [
    {
     "name": "stdout",
     "output_type": "stream",
     "text": [
      "<class 'pandas.core.frame.DataFrame'>\n",
      "RangeIndex: 891 entries, 0 to 890\n",
      "Data columns (total 12 columns):\n",
      "PassengerId    891 non-null int64\n",
      "Survived       891 non-null int64\n",
      "Pclass         891 non-null int64\n",
      "Name           891 non-null object\n",
      "Sex            891 non-null object\n",
      "Age            891 non-null object\n",
      "SibSp          891 non-null int64\n",
      "Parch          891 non-null int64\n",
      "Ticket         891 non-null object\n",
      "Fare           891 non-null float64\n",
      "Embarked       891 non-null object\n",
      "Price          891 non-null float64\n",
      "dtypes: float64(2), int64(5), object(5)\n",
      "memory usage: 83.6+ KB\n"
     ]
    }
   ],
   "source": [
    "# identificando o número de valores não-nulos em cada coluna.\n",
    "df_treated.info()"
   ]
  },
  {
   "cell_type": "code",
   "execution_count": 19,
   "metadata": {},
   "outputs": [],
   "source": [
    "# Salvando arquivo com o campos dados limpos.\n",
    "df_treated.to_csv('df_treated.csv', index=False)"
   ]
  },
  {
   "cell_type": "code",
   "execution_count": 20,
   "metadata": {},
   "outputs": [],
   "source": [
    "# selecionando sobreviventes ==\"1\" da coluna Pclass.\n",
    "df_Survived = df_treated.query('Survived == 1')"
   ]
  },
  {
   "cell_type": "code",
   "execution_count": 21,
   "metadata": {},
   "outputs": [
    {
     "data": {
      "text/html": [
       "<div>\n",
       "<style scoped>\n",
       "    .dataframe tbody tr th:only-of-type {\n",
       "        vertical-align: middle;\n",
       "    }\n",
       "\n",
       "    .dataframe tbody tr th {\n",
       "        vertical-align: top;\n",
       "    }\n",
       "\n",
       "    .dataframe thead th {\n",
       "        text-align: right;\n",
       "    }\n",
       "</style>\n",
       "<table border=\"1\" class=\"dataframe\">\n",
       "  <thead>\n",
       "    <tr style=\"text-align: right;\">\n",
       "      <th></th>\n",
       "      <th>PassengerId</th>\n",
       "      <th>Survived</th>\n",
       "      <th>Pclass</th>\n",
       "      <th>Name</th>\n",
       "      <th>Sex</th>\n",
       "      <th>Age</th>\n",
       "      <th>SibSp</th>\n",
       "      <th>Parch</th>\n",
       "      <th>Ticket</th>\n",
       "      <th>Fare</th>\n",
       "      <th>Embarked</th>\n",
       "      <th>Price</th>\n",
       "    </tr>\n",
       "  </thead>\n",
       "  <tbody>\n",
       "    <tr>\n",
       "      <th>1</th>\n",
       "      <td>2</td>\n",
       "      <td>1</td>\n",
       "      <td>1</td>\n",
       "      <td>Cumings, Mrs. John Bradley (Florence Briggs Th...</td>\n",
       "      <td>female</td>\n",
       "      <td>38</td>\n",
       "      <td>1</td>\n",
       "      <td>0</td>\n",
       "      <td>PC 17599</td>\n",
       "      <td>71.2833</td>\n",
       "      <td>C</td>\n",
       "      <td>35.641650</td>\n",
       "    </tr>\n",
       "    <tr>\n",
       "      <th>2</th>\n",
       "      <td>3</td>\n",
       "      <td>1</td>\n",
       "      <td>3</td>\n",
       "      <td>Heikkinen, Miss. Laina</td>\n",
       "      <td>female</td>\n",
       "      <td>26</td>\n",
       "      <td>0</td>\n",
       "      <td>0</td>\n",
       "      <td>STON/O2. 3101282</td>\n",
       "      <td>7.9250</td>\n",
       "      <td>S</td>\n",
       "      <td>2.641667</td>\n",
       "    </tr>\n",
       "  </tbody>\n",
       "</table>\n",
       "</div>"
      ],
      "text/plain": [
       "   PassengerId  Survived  Pclass  \\\n",
       "1            2         1       1   \n",
       "2            3         1       3   \n",
       "\n",
       "                                                Name     Sex Age  SibSp  \\\n",
       "1  Cumings, Mrs. John Bradley (Florence Briggs Th...  female  38      1   \n",
       "2                             Heikkinen, Miss. Laina  female  26      0   \n",
       "\n",
       "   Parch            Ticket     Fare Embarked      Price  \n",
       "1      0          PC 17599  71.2833        C  35.641650  \n",
       "2      0  STON/O2. 3101282   7.9250        S   2.641667  "
      ]
     },
     "execution_count": 21,
     "metadata": {},
     "output_type": "execute_result"
    }
   ],
   "source": [
    "#exibindo parte do dataset com head.()\n",
    "df_Survived.head(2)"
   ]
  },
  {
   "cell_type": "code",
   "execution_count": 22,
   "metadata": {
    "scrolled": true
   },
   "outputs": [
    {
     "data": {
      "text/plain": [
       "1    136\n",
       "3    119\n",
       "2     87\n",
       "Name: Pclass, dtype: int64"
      ]
     },
     "execution_count": 22,
     "metadata": {},
     "output_type": "execute_result"
    }
   ],
   "source": [
    "# Número de sobrevientes por classe = 'Pclass\" =(A,B,C)\n",
    "df_Survived_class = df_Survived.Pclass.value_counts() \n",
    "df_Survived_class"
   ]
  },
  {
   "cell_type": "markdown",
   "metadata": {},
   "source": [
    "# Qual a \"classe\" com o maior número de \"sobreviventes\"?"
   ]
  },
  {
   "cell_type": "code",
   "execution_count": 23,
   "metadata": {},
   "outputs": [
    {
     "data": {
      "image/png": "[encoded data removed]",
      "text/plain": [
       "<Figure size 432x288 with 1 Axes>"
      ]
     },
     "metadata": {
      "needs_background": "light"
     },
     "output_type": "display_data"
    }
   ],
   "source": [
    "#Grafico com \"número de sobrevientes por classe\"\n",
    "df_treated.groupby(['Pclass', 'Survived']).size().unstack().plot.bar()\n",
    "objects = ('A','B','C')\n",
    "y_pos = np.arange(len(objects))\n",
    "plt.xticks(y_pos, objects)\n",
    "plt.ylabel('Nº de Sobreviventes')\n",
    "plt.legend('DS')\n",
    "plt.title (\"Sobreviventes por Classes\")\n",
    "plt.xlabel('Class');"
   ]
  },
  {
   "cell_type": "markdown",
   "metadata": {},
   "source": [
    "<h3><p>Analisando o gráfico acima podemos constatar que a *Classe \"A\" teve o maior número, com exatamente 136 sobreviventes, diante esta constatação poderia ser levantadas algumas questões como por exemplo se houve algum tipo de suborno ou privilégio no salvamento das vítimas ou o fato da \"classe A\" ter o maior número de sobreviventes foi mero acaso.</p></h3>\n"
   ]
  },
  {
   "cell_type": "code",
   "execution_count": 24,
   "metadata": {},
   "outputs": [
    {
     "data": {
      "text/plain": [
       "S    219\n",
       "C     93\n",
       "Q     30\n",
       "Name: Embarked, dtype: int64"
      ]
     },
     "execution_count": 24,
     "metadata": {},
     "output_type": "execute_result"
    }
   ],
   "source": [
    "# Sobriventes por local de embarque.\n",
    "df_Survived_Embarked = df_Survived.Embarked.value_counts()  \n",
    "df_Survived_Embarked"
   ]
  },
  {
   "cell_type": "markdown",
   "metadata": {},
   "source": [
    "\n"
   ]
  },
  {
   "cell_type": "code",
   "execution_count": 25,
   "metadata": {},
   "outputs": [
    {
     "data": {
      "text/plain": [
       "Embarked  Survived\n",
       "C         0            75\n",
       "          1            93\n",
       "Q         0            47\n",
       "          1            30\n",
       "S         0           427\n",
       "          1           219\n",
       "dtype: int64"
      ]
     },
     "execution_count": 25,
     "metadata": {},
     "output_type": "execute_result"
    }
   ],
   "source": [
    "# Passageiros por porto de embarque e Sobrevivente por porto de embarque.\n",
    "df_emb_surv = df_treated.groupby(['Embarked','Survived'],as_index=False)[['Embarked','Survived']]\n",
    "df_emb_surv.size()\n",
    "#Passageiros por porto de embarque."
   ]
  },
  {
   "cell_type": "markdown",
   "metadata": {},
   "source": [
    "# Qual o porto de embarque com o maior número de sobreviventes?"
   ]
  },
  {
   "cell_type": "code",
   "execution_count": 26,
   "metadata": {},
   "outputs": [
    {
     "data": {
      "image/png": "[encoded data removed]",
      "text/plain": [
       "<Figure size 432x288 with 1 Axes>"
      ]
     },
     "metadata": {
      "needs_background": "light"
     },
     "output_type": "display_data"
    }
   ],
   "source": [
    "# gráfico 'Passageiros x Sobreviventes por porto de embarque.'\n",
    "\n",
    "\n",
    "#legenda nome dos portos de embarque: C = Cherbourg; Q = Queenstown; S = Southampton)\n",
    "df_treated.groupby(['Embarked', 'Survived']).size().unstack().plot.bar()\n",
    "objects = ('C','Q','S')\n",
    "y_pos = np.arange(len(objects))\n",
    "plt.xticks(y_pos, objects)\n",
    "plt.ylabel('Nº passageiros')\n",
    "plt.legend('DS')\n",
    "plt.title (\"Passageiros x Sobreviventes por porto de embarque\")\n",
    "plt.xlabel('Porto de embarque');"
   ]
  },
  {
   "cell_type": "markdown",
   "metadata": {},
   "source": [
    "<h3>Conforme o Gráfico acima o porto com o maior número de sobreviventes foi o de Southampton = S com 219 sobreviventes, este mesmo porto teve o maior número de passageiros o que facilitaria tal conclução.<h3/>"
   ]
  },
  {
   "cell_type": "markdown",
   "metadata": {},
   "source": [
    "# Qual o porto de embarque com o maior taxa de mortalidade?"
   ]
  },
  {
   "cell_type": "code",
   "execution_count": null,
   "metadata": {},
   "outputs": [],
   "source": [
    "\n"
   ]
  },
  {
   "cell_type": "code",
   "execution_count": 27,
   "metadata": {},
   "outputs": [
    {
     "ename": "NameError",
     "evalue": "name 'df_embarkerd_S' is not defined",
     "output_type": "error",
     "traceback": [
      "\u001b[1;31m---------------------------------------------------------------------------\u001b[0m",
      "\u001b[1;31mNameError\u001b[0m                                 Traceback (most recent call last)",
      "\u001b[1;32m<ipython-input-27-0b40afe8e6ff>\u001b[0m in \u001b[0;36m<module>\u001b[1;34m\u001b[0m\n\u001b[0;32m      1\u001b[0m \u001b[1;31m# percentual de mortalidade por porto de embarque\u001b[0m\u001b[1;33m\u001b[0m\u001b[1;33m\u001b[0m\u001b[1;33m\u001b[0m\u001b[0m\n\u001b[0;32m      2\u001b[0m \u001b[1;33m\u001b[0m\u001b[0m\n\u001b[1;32m----> 3\u001b[1;33m \u001b[0mSurv_sub_S\u001b[0m\u001b[1;33m=\u001b[0m\u001b[1;33m(\u001b[0m\u001b[0mdf_embarkerd_S\u001b[0m\u001b[1;33m)\u001b[0m \u001b[1;33m-\u001b[0m \u001b[1;33m(\u001b[0m\u001b[0mSurvived_embarkerd_S\u001b[0m\u001b[1;33m.\u001b[0m\u001b[0mSurvived\u001b[0m\u001b[1;33m)\u001b[0m\u001b[1;33m\u001b[0m\u001b[1;33m\u001b[0m\u001b[0m\n\u001b[0m\u001b[0;32m      4\u001b[0m \u001b[0mSurv_dev_S\u001b[0m \u001b[1;33m=\u001b[0m \u001b[0mSurv_sub_S\u001b[0m\u001b[1;33m/\u001b[0m\u001b[0mdf_embarkerd_S\u001b[0m\u001b[1;33m\u001b[0m\u001b[1;33m\u001b[0m\u001b[0m\n\u001b[0;32m      5\u001b[0m \u001b[0mSurv_pecent_S\u001b[0m \u001b[1;33m=\u001b[0m \u001b[0mround\u001b[0m\u001b[1;33m(\u001b[0m\u001b[0mSurv_dev_S\u001b[0m\u001b[1;33m,\u001b[0m\u001b[1;36m2\u001b[0m\u001b[1;33m)\u001b[0m\u001b[1;33m*\u001b[0m\u001b[1;36m100\u001b[0m\u001b[1;33m\u001b[0m\u001b[1;33m\u001b[0m\u001b[0m\n",
      "\u001b[1;31mNameError\u001b[0m: name 'df_embarkerd_S' is not defined"
     ]
    }
   ],
   "source": [
    "# percentual de mortalidade por porto de embarque\n",
    "\n",
    "Surv_sub_S=(df_embarkerd_S) - (Survived_embarkerd_S.Survived)\n",
    "Surv_dev_S = Surv_sub_S/df_embarkerd_S\n",
    "Surv_pecent_S = round(Surv_dev_S,2)*100\n",
    "\n",
    "Surv_sub_C=(df_embarkerd_C) - (Survived_embarkerd_C.Survived)\n",
    "Surv_dev_C = Surv_sub_C/df_embarkerd_C\n",
    "Surv_pecent_C = round(Surv_dev_C,2)*100\n",
    "\n",
    "Surv_sub_Q=(df_embarkerd_Q) - (Survived_embarkerd_Q.Survived)\n",
    "Surv_dev_Q = Surv_sub_Q/df_embarkerd_Q\n",
    "Surv_pecent_Q = round(Surv_dev_Q,2)*100\n",
    "\n",
    "\n",
    "\n",
    "#Gráfico % de Mortalidade por porto de embarque\n",
    "\n",
    "fig, ax =plt.subplots()\n",
    "ax.set_label = ('Southampton','Cherbourg','Queenstown')\n",
    "plt_South =ax.bar(0,Surv_pecent_S,color='SkyBlue',label='Southampton')\n",
    "plt_Cher =ax.bar(2,Surv_pecent_C,color='Indianred',label='Cherbourg')\n",
    "plt_Queens =ax.bar(1,Surv_pecent_Q,color='yellow',label='Queenstown')\n",
    "ax.set_title (\"% de Mortalidade por porto de embarque\")\n",
    "ax.set_ylabel('Nº de Mortalidade')\n",
    "ax.set_xlabel('Porto de Embarque')\n",
    "y_pos = np.arange(len(objects))\n",
    "plt.xticks(y_pos,label)\n",
    "plt.legend()\n",
    "plt.show()\n",
    "\n"
   ]
  },
  {
   "cell_type": "code",
   "execution_count": null,
   "metadata": {},
   "outputs": [],
   "source": []
  },
  {
   "cell_type": "markdown",
   "metadata": {},
   "source": [
    "<h3>Porto de embarque com o maior percentual de mortalidade também foi Southampton com 66%. <h3/>\n"
   ]
  },
  {
   "cell_type": "markdown",
   "metadata": {},
   "source": [
    "# Maior percentual de sobreviventes por sexo?"
   ]
  },
  {
   "cell_type": "code",
   "execution_count": null,
   "metadata": {},
   "outputs": [],
   "source": [
    "# % de sobreviventes por sexo.\n",
    "\n",
    "Survived_Sex_M = df_treated.query('Sex ==\"male\" and Survived == 1').count()\n",
    "Survived_Sex_F = df_treated.query('Sex ==\"female\" and Survived == 1').count()\n",
    "\n",
    "\n",
    "# Gráfico de pizza, onde as fatias serão ordenadas e plotadas no sentido anti-horário:\n",
    "labels = 'Male', 'Female'\n",
    "sizes = [109, 233] # nº de sobreviventes homens e mulheres. \n",
    "explode = (0, 0.1)  # explodir apenas a segunda fatia (ex. \"male\").\n",
    "fig1, ax1 = plt.subplots()\n",
    "ax1.pie(sizes, explode=explode, labels=labels, autopct='%1.1f%%',\n",
    "        shadow=True, startangle=90)\n",
    "ax1.axis('equal')  #  \"Equal\" garante que a pizza dseja desenha como um circulo.\n",
    "ax1.set_title(\"% de sobreviventes por sexo\")\n",
    "\n",
    "plt.show()\n",
    "\n",
    "# Imprimir número de sobreviventes por sexo.\n",
    "\n",
    "print('Nº de sobreviventes:')\n",
    "print('{0} homens'.format(Survived_Sex_M['Survived']))\n",
    "print('{0} mulheres'.format(Survived_Sex_F['Survived']))\n",
    "\n",
    "#maior taxa de sobrevivência homens X mulheres\n",
    "\n",
    "df_total_S=Survived_Sex_M['Survived']+Survived_Sex_F['Survived'] # somando nº de sobreviventes homens + mulheres\n",
    "df_sub_sex= Survived_Sex_F['Survived']-Survived_Sex_M['Survived'] #subtraindo mulheres - homens.\n",
    "df_most_gender_S=df_sub_sex/df_total_S # dividindo a diferênca entre o numero de homens - mulheres e dividindo pelo total de sobreviventes.\n",
    "df_percent_sex=round(df_most_gender_S,2)*100 # gerando arredodamento para que o número fique mais apresentavel ao leitor.\n",
    "\n",
    "print(\"Sobreviveram {0}% mais mulheres que homens.\".format(df_percent_sex))\n"
   ]
  },
  {
   "cell_type": "markdown",
   "metadata": {},
   "source": [
    "<h3>Sobreviveram 36% mais mulheres que homens, o que faz muito sentido, pois conforme convenção histórica mulheres e crianças devem ser os primeiros a serem salvos.<h3/>"
   ]
  },
  {
   "cell_type": "code",
   "execution_count": null,
   "metadata": {},
   "outputs": [],
   "source": [
    "# modificando o tipo de dado de object para int da coluna \"Age\".\n",
    "df_treated.Age=df_treated.Age.astype(int)"
   ]
  },
  {
   "cell_type": "code",
   "execution_count": null,
   "metadata": {},
   "outputs": [],
   "source": [
    "# Sobreviventes por faixa etária\n",
    "\n",
    "#parâmetros:\n",
    "\n",
    "#Crianças: -1-14 anos \n",
    "#jovens:  15-24 anos \n",
    "#adultos: 25-54 anos\n",
    "#idoso:  55-120 anos\n",
    "\n",
    "\n",
    "#Rotulos para faixa etária\n",
    "\n",
    "idade = [-1, 14, 24, 55, 120]\n",
    "rotulo = [\"Crianças\",\"Jovens\", \"Adultos\", \"Idosos\"]\n",
    "\n",
    "age_column = df_treated.Age.astype(int) # modificando o tipo da variavel par inteiro.\n",
    "age_column.dtypes\n",
    "\n",
    "#vinculando o rotulo a idade = faixa etária\n",
    "\n",
    "df_treated[\"faixa_etaria\"] = pd.cut(x = age_column, bins = idade, labels = rotulo)\n",
    "df_treated.faixa_etaria.head()"
   ]
  },
  {
   "cell_type": "code",
   "execution_count": null,
   "metadata": {},
   "outputs": [],
   "source": [
    "# checando se existem campos faltantes.\n",
    "df_treated.info()"
   ]
  },
  {
   "cell_type": "markdown",
   "metadata": {},
   "source": [
    "# Qual a maior taxa de mortalidade por taxa etária?"
   ]
  },
  {
   "cell_type": "code",
   "execution_count": null,
   "metadata": {},
   "outputs": [],
   "source": [
    "# Número de Sobreviventes e mortos por faixa etária.\n",
    "df_treated.groupby(['faixa_etaria', 'Survived']).size()"
   ]
  },
  {
   "cell_type": "code",
   "execution_count": null,
   "metadata": {},
   "outputs": [],
   "source": [
    "# Gráfico de Sobreviventes por faixa etária.\n",
    "\n",
    "live_people = (45, 73, 212, 12)\n",
    "death_people = (33, 127, 362, 27)\n",
    "\n",
    "ind = np.arange(len(live_people))\n",
    "width = 0.40\n",
    "fig, ax = plt.subplots()\n",
    "\n",
    "rects1 = ax.bar(ind - width/2, live_people, width,color='SkyBlue', label='Vivos')\n",
    "rects2 = ax.bar(ind + width/2, death_people, width,color='IndianRed', label='Mortos')\n",
    "\n",
    "ax.set_ylabel('Quantidade')\n",
    "ax.set_title('Mortalidade por faixa etária')\n",
    "ax.set_xticks(ind)\n",
    "ax.set_xticklabels(('Criança', 'Jovens', 'Adulto', 'Idoso'))\n",
    "ax.legend();"
   ]
  },
  {
   "cell_type": "markdown",
   "metadata": {},
   "source": [
    "<h3>Analisando o gráfico acima \"Sobreviventes por faixa etária\" pude concluir que o maior percentual de mortalidade está no grupo dos \"idosos\" com 69% porem apenas 27 mortes; o grupo dos jovens com 64% e com 127 mortes; o grupo de adultos com 63% e com 362 mortos e o grupo das crianças com 42% e com 33 mortos.<h3/>"
   ]
  },
  {
   "cell_type": "markdown",
   "metadata": {},
   "source": [
    "# Qual a taxa de Mortalidade por idade?"
   ]
  },
  {
   "cell_type": "code",
   "execution_count": 28,
   "metadata": {},
   "outputs": [
    {
     "data": {
      "image/png": "[encoded data removed]",
      "text/plain": [
       "<Figure size 432x288 with 1 Axes>"
      ]
     },
     "metadata": {
      "needs_background": "light"
     },
     "output_type": "display_data"
    }
   ],
   "source": [
    "#convertendo o tipo da coluna \"Age\" para \"int\"\n",
    "df_treated.Age=df_treated.Age.astype(int)\n",
    "df_treated.dtypes\n",
    "\n",
    "# Gráfico de mortalidade por idade.\n",
    "df_treated.groupby(['Age', 'Survived']).size().unstack().plot.line()\n",
    "plt.title(\"Mortalidade por Idade\")\n",
    "plt.legend(['Mortos','Sobreviventes'])\n",
    "plt.xlabel('Idade')\n",
    "plt.ylabel('Nº de passageiros');"
   ]
  },
  {
   "cell_type": "markdown",
   "metadata": {},
   "source": [
    "<h3>Conforme gráfico acima a maior taxa de mortalidade entre os passageiros ficou por volta dos 30 anos de idade. </h3>"
   ]
  },
  {
   "cell_type": "markdown",
   "metadata": {},
   "source": [
    "# Conclusões\n"
   ]
  },
  {
   "cell_type": "markdown",
   "metadata": {},
   "source": [
    "<h3><p>O naufrágio do RMS Titanic foi um dos mais infames naufrágios da história, matando 1502 de 2224 passageiros e tripulantes<br/>\n",
    "<p>Avaliando os dados fornecidos com 891 linhas e 12 colunas, iniciei a análise de dados exploratória afim de identificar padrões e anomalias.<br> \n",
    "\n",
    "<p>Todavia reenterro que as análises realizadas aqui têm caráter experimental, a massa de dados fornecida compromete a veracidade analises aqui realizadas, pois estava incompleta e algumas colunas com itens faltantes, já a coluna \"Cabin\" em particular estava apenas 23% da dados preenchidos. .</p>\n",
    "<p>Para as colunas \"Age\" e \"Embarked\" com valores faltantes realizei o tratamento de input dos dados com base na média e no valor de maior frequência da coluna, já para a coluna \"Cabin\" optei por exclui-la seguindo as boas práticas.</p>\n",
    "<br>\n",
    "<p>Para tomar a decisão quanto a imputação ou exclusão dos dados temos que avaliar alguns fatores como por exemplo o motivo pelo qual o dado está ausente, tipo de negócio e a relevância das informações existentes na coluna ou linha com dados faltantes</p>\n",
    "<br>\n",
    "<br>\n",
    "<br>\n",
    "\n",
    "<h1>Questões Analisadas</h1>\n",
    "\n",
    "<h3><p>1. Qual a \"classe\" com o maior número de \"sobreviventes\"?</h3></p>\n",
    "<h3><p>R: Analisando o gráfico acima podemos constatar que a Classe \"A\" teve o maior número, com exatamente 136 sobreviventes, diante esta constatação poderia ser levantadas algumas questões como por exemplo se houve algum tipo de suborno ou privilégio no salvamento das vítimas ou o fato da \"classe A\" ter o maior número de sobreviventes foi mero acaso.</h3></p>\n",
    "\n",
    "\n",
    "<h3><p>2. Qual o porto de embarque com o maior número de sobreviventes?</h3></p>\n",
    "<h3><p>R: Conforme o Gráfico 'Passageiros x Sobreviventes' o porto com o maior número de sobreviventes foi o de Southampton = S com 219 sobreviventes, este mesmo porto teve o maior número de passageiros o que facilitaria tal conclusão.</h3></p>\n",
    "\n",
    "\n",
    "<h3><p>3. Qual o porto de embarque com a maior taxa de mortalidade? </h3></p>\n",
    "<h3><p>R: Porto de embarque com o maior percentual de mortalidade também foi Southampton com 66%. </h3></p>\n",
    "\n",
    "\n",
    "<h3><p>4. Maior percentual de sobreviventes por sexo? </h3></p>\n",
    "<h3><p>R: Sobreviveram 36% mais mulheres que homens, o que faz muito sentido, pois conforme convenção histórica mulheres e crianças devem ser os primeiros a serem salvos.</h3></p>\n",
    "\n",
    "<h3><p>5. Qual a maior taxa de mortalidade por taxa etária?</h3></p>\n",
    "<h3><p>Analisando o gráfico acima \"Sobreviventes por faixa etária\" pude concluir que o maior percentual de mortalidade está no grupo dos \"idosos\" com 69% porem apenas 27 mortes; o grupo dos jovens com 64% e com 127 mortes; o grupo de adultos com 63% e com 362 mortos e o grupo das crianças com 42% e com 33 mortos.</h3></p>\n",
    "\n",
    "<h3><p>6. Qual a taxa de Mortalidade por idade? </h3></p>\n",
    "<h3><p>R:A maior taxa de mortalidade entre os passageiros ficou por volta dos 30 anos de idade. <br>\n",
    "Gráfico: \"Mortalidade por Idade\"</h3></p>\n"
   ]
  },
  {
   "cell_type": "markdown",
   "metadata": {},
   "source": [
    "<h2>Referências<h2/>\n",
    "    \n",
    "[Matplotlib tutorial colors](https://matplotlib.org/users/colors.html)\n",
    "\n",
    "\n",
    "[Reino Unido Distribuição da idade](https://www.indexmundi.com/pt/reino_unido/distribuicao_da_idade.html)\n",
    "\n",
    "[Matplotlib legend tutorials](https://matplotlib.org/api/_as_gen/matplotlib.pyplot.legend.html)\n",
    "\n",
    "[Positive and Negative Correlation](https://www.emathzone.com/tutorials/basic-statistics/positive-and-negative-correlation.html)\n",
    "\n",
    "[Titanic Facts](https://titanicfacts.net/titanic-survivors/)\n",
    "\n",
    "[(Data Titanic Kaggle)](https://www.kaggle.com/c/titanic)\n",
    "\n",
    "[Python | Pandas df.size, df.shape and df.ndim](https://www.geeksforgeeks.org/python-pandas-df-size-df-shape-and-df-ndim/)\n",
    "\n",
    "[How to limit decimal numbers in Python?](https://pt.stackoverflow.com/questions/176243/como-limitar-n%C3%BAmeros-decimais-em-python)\n",
    "\n",
    "[Por que mulheres e crianças têm prioridade em situações de emergência?](https://super.abril.com.br/mundo-estranho/por-que-mulheres-e-criancas-tem-prioridade-em-situacoes-de-emergencia/)\n",
    "\n",
    "[cut() Method: Bin Values into Discrete Intervals](https://dfrieds.com/data-analysis/bin-values-python-pandas)\n",
    "\n",
    "[Seaborn](http://seaborn.pydata.org/examples/index.html)"
   ]
  },
  {
   "cell_type": "code",
   "execution_count": null,
   "metadata": {},
   "outputs": [],
   "source": []
  },
  {
   "cell_type": "code",
   "execution_count": null,
   "metadata": {},
   "outputs": [],
   "source": []
  },
  {
   "cell_type": "code",
   "execution_count": null,
   "metadata": {},
   "outputs": [],
   "source": [
    "\n",
    "\n"
   ]
  },
  {
   "cell_type": "code",
   "execution_count": null,
   "metadata": {},
   "outputs": [],
   "source": []
  },
  {
   "cell_type": "code",
   "execution_count": null,
   "metadata": {},
   "outputs": [],
   "source": []
  },
  {
   "cell_type": "code",
   "execution_count": null,
   "metadata": {},
   "outputs": [],
   "source": []
  },
  {
   "cell_type": "code",
   "execution_count": null,
   "metadata": {},
   "outputs": [],
   "source": [
    "\n"
   ]
  },
  {
   "cell_type": "code",
   "execution_count": null,
   "metadata": {},
   "outputs": [],
   "source": []
  },
  {
   "cell_type": "code",
   "execution_count": null,
   "metadata": {},
   "outputs": [],
   "source": []
  },
  {
   "cell_type": "markdown",
   "metadata": {},
   "source": [
    "\n",
    "\n",
    "\n",
    "\n"
   ]
  },
  {
   "cell_type": "code",
   "execution_count": null,
   "metadata": {},
   "outputs": [],
   "source": []
  },
  {
   "cell_type": "code",
   "execution_count": null,
   "metadata": {},
   "outputs": [],
   "source": []
  }
 ],
 "metadata": {
  "kernelspec": {
   "display_name": "Python 3",
   "language": "python",
   "name": "python3"
  },
  "language_info": {
   "codemirror_mode": {
    "name": "ipython",
    "version": 3
   },
   "file_extension": ".py",
   "mimetype": "text/x-python",
   "name": "python",
   "nbconvert_exporter": "python",
   "pygments_lexer": "ipython3",
   "version": "3.7.1"
  }
 },
 "nbformat": 4,
 "nbformat_minor": 2
}
